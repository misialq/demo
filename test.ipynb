{
 "cells": [
  {
   "cell_type": "code",
   "execution_count": 1,
   "id": "6a99a2bc",
   "metadata": {},
   "outputs": [],
   "source": [
    "from pathlib import Path"
   ]
  },
  {
   "cell_type": "code",
   "execution_count": 3,
   "id": "0ccae8fe",
   "metadata": {},
   "outputs": [
    {
     "name": "stdout",
     "output_type": "stream",
     "text": [
      "/home/jovyan/demo\n"
     ]
    }
   ],
   "source": [
    "print(os.getcwd())"
   ]
  },
  {
   "cell_type": "markdown",
   "id": "c7f86186",
   "metadata": {},
   "source": [
    "Hey Lina!"
   ]
  },
  {
   "cell_type": "markdown",
   "id": "30d0621c",
   "metadata": {},
   "source": [
    "Hello World, too!"
   ]
  },
  {
   "cell_type": "markdown",
   "id": "6875889e",
   "metadata": {},
   "source": [
    "Hallo Michal! Dies Notebook ist super!"
   ]
  }
 ],
 "metadata": {
  "kernelspec": {
   "display_name": "Python 3 (ipykernel)",
   "language": "python",
   "name": "python3"
  },
  "language_info": {
   "codemirror_mode": {
    "name": "ipython",
    "version": 3
   },
   "file_extension": ".py",
   "mimetype": "text/x-python",
   "name": "python",
   "nbconvert_exporter": "python",
   "pygments_lexer": "ipython3",
   "version": "3.8.13"
  }
 },
 "nbformat": 4,
 "nbformat_minor": 5
}
