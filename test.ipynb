{
 "cells": [
  {
   "cell_type": "code",
   "execution_count": 1,
   "id": "90347a17-93dd-4eb0-9ea2-56607ccdcf3e",
   "metadata": {},
   "outputs": [],
   "source": [
    "import os"
   ]
  },
  {
   "cell_type": "code",
   "execution_count": 3,
   "id": "6917819f-ae8f-41aa-9877-4c8934b9d117",
   "metadata": {},
   "outputs": [
    {
     "name": "stdout",
     "output_type": "stream",
     "text": [
      "/home/jovyan/demo\n"
     ]
    }
   ],
   "source": [
    "print(os.getcwd())"
   ]
  },
  {
   "cell_type": "markdown",
   "id": "40ef06d8-cff7-41e1-9bcb-2998001f6ee0",
   "metadata": {},
   "source": [
    "Hey Lina!"
   ]
  },
  {
   "cell_type": "code",
   "execution_count": null,
   "id": "b997f6d6-0115-412f-9f2a-29e585bba16c",
   "metadata": {},
   "outputs": [],
   "source": []
  }
 ],
 "metadata": {
  "kernelspec": {
   "display_name": "Python 3 (ipykernel)",
   "language": "python",
   "name": "python3"
  },
  "language_info": {
   "codemirror_mode": {
    "name": "ipython",
    "version": 3
   },
   "file_extension": ".py",
   "mimetype": "text/x-python",
   "name": "python",
   "nbconvert_exporter": "python",
   "pygments_lexer": "ipython3",
   "version": "3.8.13"
  }
 },
 "nbformat": 4,
 "nbformat_minor": 5
}
