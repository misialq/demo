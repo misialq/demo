{
 "cells": [
  {
   "cell_type": "code",
   "execution_count": 1,
   "id": "90347a17-93dd-4eb0-9ea2-56607ccdcf3e",
   "metadata": {},
   "outputs": [],
   "source": [
    "import numpy as np"
   ]
  },
  {
   "cell_type": "code",
   "execution_count": 3,
   "id": "6917819f-ae8f-41aa-9877-4c8934b9d117",
   "metadata": {},
   "outputs": [
    {
     "name": "stdout",
     "output_type": "stream",
     "text": [
      "/home/jovyan/demo\n"
     ]
    }
   ],
   "source": [
    "print(os.getcwd())"
   ]
  },
  {
   "cell_type": "markdown",
   "id": "40ef06d8-cff7-41e1-9bcb-2998001f6ee0",
   "metadata": {},
   "source": [
    "Hey Lina!"
   ]
  },
  {
   "cell_type": "markdown",
   "id": "09ff6737-3215-419e-95a7-fd83cc2d02d5",
   "metadata": {},
   "source": [
    "Hello World, too!"
   ]
  },
  {
   "cell_type": "code",
   "execution_count": null,
   "id": "3323c3cc-de79-4624-b33b-d46ffe2926d8",
   "metadata": {},
   "outputs": [],
   "source": []
  }
 ],
 "metadata": {
  "kernelspec": {
   "display_name": "Python 3 (ipykernel)",
   "language": "python",
   "name": "python3"
  },
  "language_info": {
   "codemirror_mode": {
    "name": "ipython",
    "version": 3
   },
   "file_extension": ".py",
   "mimetype": "text/x-python",
   "name": "python",
   "nbconvert_exporter": "python",
   "pygments_lexer": "ipython3",
   "version": "3.8.13"
  }
 },
 "nbformat": 4,
 "nbformat_minor": 5
}
